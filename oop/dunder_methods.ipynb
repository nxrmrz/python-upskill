{
 "cells": [
  {
   "cell_type": "markdown",
   "id": "julian-bacteria",
   "metadata": {},
   "source": [
    "Bulk of content is from [this](https://dbader.org/blog/python-dunder-methods) tutorial\n",
    "\n",
    "We illustrate the importance of dunder (double under) methods using an Account class. First is defining a dunder method for **Object Initialisation**: `__init__`"
   ]
  },
  {
   "cell_type": "code",
   "execution_count": 1,
   "id": "cultural-faith",
   "metadata": {},
   "outputs": [],
   "source": [
    "class Account:\n",
    "    \"\"\"A simple account class\"\"\"\n",
    "\n",
    "    def __init__(self, owner, amount=0):\n",
    "        \"\"\"\n",
    "        This is the constructor that lets us create\n",
    "        objects from this class\n",
    "        \"\"\"\n",
    "        self.owner = owner\n",
    "        self.amount = amount\n",
    "        self._transactions = []"
   ]
  },
  {
   "cell_type": "markdown",
   "id": "undefined-version",
   "metadata": {},
   "source": [
    "**Object Representation:** \n",
    "* `__str__`: For the end-user, the \"informal\" or nicely printable string representation of an object\n",
    "* `__repr__`: The \"official\" to-string method of an object.\n",
    "\n",
    "Below, we also access the class name `Account` programatically instead of hardcoding it into the to-string methods"
   ]
  },
  {
   "cell_type": "code",
   "execution_count": 8,
   "id": "soviet-picnic",
   "metadata": {},
   "outputs": [],
   "source": [
    "class Account:\n",
    "    \"\"\"A simple account class\"\"\"\n",
    "\n",
    "    def __init__(self, owner, amount=0):\n",
    "        \"\"\"\n",
    "        This is the constructor that lets us create\n",
    "        objects from this class\n",
    "        \"\"\"\n",
    "        self.owner = owner\n",
    "        self.amount = amount\n",
    "        self._transactions = []\n",
    "    \n",
    "    def __repr__(self):\n",
    "        return '{!r}({!r}, {!r})'.format(self.__class__.__name__,\n",
    "                                         self.owner, self.amount)\n",
    "    \n",
    "    def __str__(self):\n",
    "        return '{} of {} with starting amount: {}'.format(self.__class__.__name__,\n",
    "                                         self.owner, self.amount)"
   ]
  },
  {
   "cell_type": "code",
   "execution_count": 9,
   "id": "wrapped-headquarters",
   "metadata": {},
   "outputs": [],
   "source": [
    "acc = Account(\"bob\", 10)"
   ]
  },
  {
   "cell_type": "code",
   "execution_count": 10,
   "id": "eleven-revision",
   "metadata": {},
   "outputs": [
    {
     "data": {
      "text/plain": [
       "'Account'('bob', 10)"
      ]
     },
     "execution_count": 10,
     "metadata": {},
     "output_type": "execute_result"
    }
   ],
   "source": [
    "# __repr__ output:\n",
    "acc"
   ]
  },
  {
   "cell_type": "code",
   "execution_count": 11,
   "id": "portable-zimbabwe",
   "metadata": {},
   "outputs": [
    {
     "name": "stdout",
     "output_type": "stream",
     "text": [
      "Account of bob with starting amount: 10\n"
     ]
    }
   ],
   "source": [
    "# __str__ output:\n",
    "print(acc)"
   ]
  },
  {
   "cell_type": "markdown",
   "id": "systematic-bacon",
   "metadata": {},
   "source": [
    "**Object Iteration:**\n",
    "* `__len__`\n",
    "* `__getitem__`\n",
    "* `__reversed__`\n",
    "\n",
    "Before we iterate on our account object, we first need to add transactions to the account. So we define a simple method `add_transaction` to add transactions, then a property `balance` to access the account balance before/after those transactions are processed"
   ]
  },
  {
   "cell_type": "code",
   "execution_count": 17,
   "id": "constitutional-chemistry",
   "metadata": {},
   "outputs": [],
   "source": [
    "class Account:\n",
    "    \"\"\"A simple account class\"\"\"\n",
    "\n",
    "    def __init__(self, owner, amount=0):\n",
    "        \"\"\"\n",
    "        This is the constructor that lets us create\n",
    "        objects from this class\n",
    "        \"\"\"\n",
    "        self.owner = owner\n",
    "        self.amount = amount\n",
    "        self._transactions = []\n",
    "    \n",
    "    def __repr__(self):\n",
    "        return '{!r}({!r}, {!r})'.format(self.__class__.__name__,\n",
    "                                         self.owner, self.amount)\n",
    "    \n",
    "    def __str__(self):\n",
    "        return '{} of {} with starting amount: {}'.format(self.__class__.__name__,\n",
    "                                         self.owner, self.amount)\n",
    "    \n",
    "    def add_transaction(self, amount):\n",
    "        \"\"\"each transaction has to go into __transactions attribute\"\"\"\n",
    "        if not isinstance(amount, int):\n",
    "            raise ValueError('Please use int for amount')\n",
    "        self._transactions.append(amount)\n",
    "    \n",
    "    @property\n",
    "    def balance(self):\n",
    "        return self.amount + sum(self._transactions)"
   ]
  },
  {
   "cell_type": "code",
   "execution_count": 37,
   "id": "behavioral-avatar",
   "metadata": {},
   "outputs": [
    {
     "data": {
      "text/plain": [
       "90"
      ]
     },
     "execution_count": 37,
     "metadata": {},
     "output_type": "execute_result"
    }
   ],
   "source": [
    "# we try deposit and withdraw, then get balance from account\n",
    "acc = Account('Bob', 10)\n",
    "\n",
    "acc.add_transaction(20)\n",
    "acc.add_transaction(-10)\n",
    "acc.add_transaction(50)\n",
    "acc.add_transaction(-10)\n",
    "acc.add_transaction(30)\n",
    "\n",
    "acc.balance"
   ]
  },
  {
   "cell_type": "markdown",
   "id": "activated-means",
   "metadata": {},
   "source": [
    "Now that we have transactions, what if i want to know:\n",
    "1. How many transactions were there?\n",
    "2. List all of the transactions\n",
    "3. Get the nth transaction (i.e. 1st, 3rd, so forth)\n",
    "\n",
    "Dunder methods to the rescue! (Lack of them --> `TypeError`). The appropriate dunder methods to make the 3 above possible are:\n",
    "1. `__len__`\n",
    "2. `__getitem__`\n",
    "3. `__getitem__`"
   ]
  },
  {
   "cell_type": "code",
   "execution_count": 36,
   "id": "celtic-billion",
   "metadata": {},
   "outputs": [],
   "source": [
    "class Account:\n",
    "    \"\"\"A simple account class\"\"\"\n",
    "\n",
    "    def __init__(self, owner, amount=0):\n",
    "        \"\"\"\n",
    "        This is the constructor that lets us create\n",
    "        objects from this class\n",
    "        \"\"\"\n",
    "        self.owner = owner\n",
    "        self.amount = amount\n",
    "        self._transactions = []\n",
    "    \n",
    "    def __repr__(self):\n",
    "        return '{!r}({!r}, {!r})'.format(self.__class__.__name__,\n",
    "                                         self.owner, self.amount)\n",
    "    \n",
    "    def __str__(self):\n",
    "        return '{} of {} with starting amount: {}'.format(self.__class__.__name__,\n",
    "                                         self.owner, self.amount)\n",
    "    \n",
    "    # MORE Dunder methods\n",
    "    def __len__(self):\n",
    "        return len(self._transactions)\n",
    "    \n",
    "    def __getitem__(self, position):\n",
    "        return self._transactions[position]\n",
    "    \n",
    "    def add_transaction(self, amount):\n",
    "        \"\"\"each transaction has to go into __transactions attribute\"\"\"\n",
    "        if not isinstance(amount, int):\n",
    "            raise ValueError('Please use int for amount')\n",
    "        self._transactions.append(amount)\n",
    "    \n",
    "    @property\n",
    "    def balance(self):\n",
    "        return self.amount + sum(self._transactions)    "
   ]
  },
  {
   "cell_type": "code",
   "execution_count": 38,
   "id": "unlike-rates",
   "metadata": {},
   "outputs": [
    {
     "data": {
      "text/plain": [
       "5"
      ]
     },
     "execution_count": 38,
     "metadata": {},
     "output_type": "execute_result"
    }
   ],
   "source": [
    "len(acc)"
   ]
  },
  {
   "cell_type": "code",
   "execution_count": 30,
   "id": "governing-heaven",
   "metadata": {},
   "outputs": [
    {
     "name": "stdout",
     "output_type": "stream",
     "text": [
      "20\n",
      "-10\n",
      "50\n",
      "-10\n",
      "30\n"
     ]
    }
   ],
   "source": [
    "for transaction in acc:\n",
    "    print(transaction)"
   ]
  },
  {
   "cell_type": "code",
   "execution_count": 40,
   "id": "sonic-cattle",
   "metadata": {},
   "outputs": [
    {
     "data": {
      "text/plain": [
       "30"
      ]
     },
     "execution_count": 40,
     "metadata": {},
     "output_type": "execute_result"
    }
   ],
   "source": [
    "acc[4]"
   ]
  }
 ],
 "metadata": {
  "kernelspec": {
   "display_name": "Python 3",
   "language": "python",
   "name": "python3"
  },
  "language_info": {
   "codemirror_mode": {
    "name": "ipython",
    "version": 3
   },
   "file_extension": ".py",
   "mimetype": "text/x-python",
   "name": "python",
   "nbconvert_exporter": "python",
   "pygments_lexer": "ipython3",
   "version": "3.7.5"
  }
 },
 "nbformat": 4,
 "nbformat_minor": 5
}
