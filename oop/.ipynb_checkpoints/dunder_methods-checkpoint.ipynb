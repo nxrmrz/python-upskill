{
 "cells": [
  {
   "cell_type": "markdown",
   "id": "sudden-disposition",
   "metadata": {},
   "source": [
    "Bulk of content is from [this](https://dbader.org/blog/python-dunder-methods) tutorial\n",
    "\n",
    "**How are dunder methods parsed by the runtime?**\n",
    "\n",
    "We illustrate the importance of dunder (double under) methods using an Account class. First is defining a dunder method for **Object Initialisation**: `__init__`"
   ]
  },
  {
   "cell_type": "code",
   "execution_count": 1,
   "id": "partial-flesh",
   "metadata": {},
   "outputs": [],
   "source": [
    "class Account:\n",
    "    \"\"\"A simple account class\"\"\"\n",
    "\n",
    "    def __init__(self, owner, amount=0):\n",
    "        \"\"\"\n",
    "        This is the constructor that lets us create\n",
    "        objects from this class\n",
    "        \"\"\"\n",
    "        self.owner = owner\n",
    "        self.amount = amount\n",
    "        self._transactions = []"
   ]
  },
  {
   "cell_type": "markdown",
   "id": "acoustic-cornell",
   "metadata": {},
   "source": [
    "**Object Representation:** \n",
    "* `__str__`: For the end-user, the \"informal\" or nicely printable string representation of an object\n",
    "* `__repr__`: The \"official\" to-string method of an object.\n",
    "\n",
    "Below, we also access the class name `Account` programatically instead of hardcoding it into the to-string methods"
   ]
  },
  {
   "cell_type": "code",
   "execution_count": 2,
   "id": "labeled-offset",
   "metadata": {},
   "outputs": [],
   "source": [
    "class Account:\n",
    "    \"\"\"A simple account class\"\"\"\n",
    "\n",
    "    def __init__(self, owner, amount=0):\n",
    "        \"\"\"\n",
    "        This is the constructor that lets us create\n",
    "        objects from this class\n",
    "        \"\"\"\n",
    "        self.owner = owner\n",
    "        self.amount = amount\n",
    "        self._transactions = []\n",
    "    \n",
    "    def __repr__(self):\n",
    "        return '{!r}({!r}, {!r})'.format(self.__class__.__name__,\n",
    "                                         self.owner, self.amount)\n",
    "    \n",
    "    def __str__(self):\n",
    "        return '{} of {} with starting amount: {}'.format(self.__class__.__name__,\n",
    "                                         self.owner, self.amount)"
   ]
  },
  {
   "cell_type": "code",
   "execution_count": 4,
   "id": "informal-british",
   "metadata": {},
   "outputs": [],
   "source": [
    "acc = Account(\"bob\", 10)"
   ]
  },
  {
   "cell_type": "code",
   "execution_count": 5,
   "id": "arbitrary-coffee",
   "metadata": {},
   "outputs": [
    {
     "data": {
      "text/plain": [
       "'Account'('bob', 10)"
      ]
     },
     "execution_count": 5,
     "metadata": {},
     "output_type": "execute_result"
    }
   ],
   "source": [
    "# __repr__ output:\n",
    "acc"
   ]
  },
  {
   "cell_type": "code",
   "execution_count": 6,
   "id": "honey-sandwich",
   "metadata": {},
   "outputs": [
    {
     "name": "stdout",
     "output_type": "stream",
     "text": [
      "Account of bob with starting amount: 10\n"
     ]
    }
   ],
   "source": [
    "# __str__ output:\n",
    "print(acc)"
   ]
  },
  {
   "cell_type": "markdown",
   "id": "auburn-slovenia",
   "metadata": {},
   "source": [
    "**Object Iteration:**\n",
    "* `__len__`\n",
    "* `__getitem__`\n",
    "* `__reversed__`\n",
    "\n",
    "Before we iterate on our account object, we first need to add transactions to the account. So we define a simple method `add_transaction` to add transactions, then a property `balance` to access the account balance before/after those transactions are processed"
   ]
  },
  {
   "cell_type": "code",
   "execution_count": 7,
   "id": "stable-louis",
   "metadata": {},
   "outputs": [],
   "source": [
    "class Account:\n",
    "    \"\"\"A simple account class\"\"\"\n",
    "\n",
    "    def __init__(self, owner, amount=0):\n",
    "        \"\"\"\n",
    "        This is the constructor that lets us create\n",
    "        objects from this class\n",
    "        \"\"\"\n",
    "        self.owner = owner\n",
    "        self.amount = amount\n",
    "        self._transactions = []\n",
    "    \n",
    "    def __repr__(self):\n",
    "        return '{!r}({!r}, {!r})'.format(self.__class__.__name__,\n",
    "                                         self.owner, self.amount)\n",
    "    \n",
    "    def __str__(self):\n",
    "        return '{} of {} with starting amount: {}'.format(self.__class__.__name__,\n",
    "                                         self.owner, self.amount)\n",
    "    \n",
    "    def add_transaction(self, amount):\n",
    "        \"\"\"each transaction has to go into __transactions attribute\"\"\"\n",
    "        if not isinstance(amount, int):\n",
    "            raise ValueError('Please use int for amount')\n",
    "        self._transactions.append(amount)\n",
    "    \n",
    "    @property\n",
    "    def balance(self):\n",
    "        \"\"\"return the current account balance\"\"\"\n",
    "        return self.amount + sum(self._transactions)"
   ]
  },
  {
   "cell_type": "code",
   "execution_count": 19,
   "id": "becoming-metro",
   "metadata": {},
   "outputs": [
    {
     "data": {
      "text/plain": [
       "90"
      ]
     },
     "execution_count": 19,
     "metadata": {},
     "output_type": "execute_result"
    }
   ],
   "source": [
    "# we try deposit and withdraw, then get balance from account\n",
    "acc = Account('Bob', 10)\n",
    "\n",
    "acc.add_transaction(20)\n",
    "acc.add_transaction(-10)\n",
    "acc.add_transaction(50)\n",
    "acc.add_transaction(-10)\n",
    "acc.add_transaction(30)\n",
    "\n",
    "acc.balance"
   ]
  },
  {
   "cell_type": "markdown",
   "id": "african-orange",
   "metadata": {},
   "source": [
    "Now that we have transactions, what if i want to know:\n",
    "1. How many transactions were there?\n",
    "2. List all of the transactions\n",
    "3. Get the nth transaction (i.e. 1st, 3rd, so forth)\n",
    "\n",
    "Dunder methods to the rescue! (Lack of them --> `TypeError`). The appropriate dunder methods to make the 3 above possible are:\n",
    "1. `__len__`\n",
    "2. `__getitem__`\n",
    "3. `__getitem__`\n",
    "\n",
    "`__reversed__` is for reversing the transaction list"
   ]
  },
  {
   "cell_type": "code",
   "execution_count": 9,
   "id": "corrected-infection",
   "metadata": {},
   "outputs": [],
   "source": [
    "class Account:\n",
    "    \"\"\"A simple account class\"\"\"\n",
    "\n",
    "    def __init__(self, owner, amount=0):\n",
    "        \"\"\"\n",
    "        This is the constructor that lets us create\n",
    "        objects from this class\n",
    "        \"\"\"\n",
    "        self.owner = owner\n",
    "        self.amount = amount\n",
    "        self._transactions = []\n",
    "    \n",
    "    def __repr__(self):\n",
    "        return '{!r}({!r}, {!r})'.format(self.__class__.__name__,\n",
    "                                         self.owner, self.amount)\n",
    "    \n",
    "    def __str__(self):\n",
    "        return '{} of {} with starting amount: {}'.format(self.__class__.__name__,\n",
    "                                         self.owner, self.amount)\n",
    "    \n",
    "    # MORE Dunder methods\n",
    "    def __len__(self):\n",
    "        return len(self._transactions)\n",
    "    \n",
    "    def __getitem__(self, position):\n",
    "        return self._transactions[position]\n",
    "    \n",
    "    def __reversed__(self):\n",
    "        return self._transactions[::-1]\n",
    "    \n",
    "    def add_transaction(self, amount):\n",
    "        \"\"\"each transaction has to go into __transactions attribute\"\"\"\n",
    "        if not isinstance(amount, int):\n",
    "            raise ValueError('Please use int for amount')\n",
    "        self._transactions.append(amount)\n",
    "    \n",
    "    @property\n",
    "    def balance(self):\n",
    "        return self.amount + sum(self._transactions)    "
   ]
  },
  {
   "cell_type": "code",
   "execution_count": 11,
   "id": "demanding-prophet",
   "metadata": {},
   "outputs": [
    {
     "data": {
      "text/plain": [
       "5"
      ]
     },
     "execution_count": 11,
     "metadata": {},
     "output_type": "execute_result"
    }
   ],
   "source": [
    "# how many transactions:\n",
    "len(acc)"
   ]
  },
  {
   "cell_type": "code",
   "execution_count": 12,
   "id": "acute-guyana",
   "metadata": {},
   "outputs": [
    {
     "name": "stdout",
     "output_type": "stream",
     "text": [
      "20\n",
      "-10\n",
      "50\n",
      "-10\n",
      "30\n"
     ]
    }
   ],
   "source": [
    "# list all transactions\n",
    "for transaction in acc:\n",
    "    print(transaction)"
   ]
  },
  {
   "cell_type": "code",
   "execution_count": 13,
   "id": "supreme-creativity",
   "metadata": {},
   "outputs": [
    {
     "data": {
      "text/plain": [
       "30"
      ]
     },
     "execution_count": 13,
     "metadata": {},
     "output_type": "execute_result"
    }
   ],
   "source": [
    "# get a specific transaction\n",
    "acc[4]"
   ]
  },
  {
   "cell_type": "code",
   "execution_count": 14,
   "id": "loose-census",
   "metadata": {},
   "outputs": [
    {
     "data": {
      "text/plain": [
       "[30, -10, 50, -10, 20]"
      ]
     },
     "execution_count": 14,
     "metadata": {},
     "output_type": "execute_result"
    }
   ],
   "source": [
    "# get all transactions, reversed\n",
    "reversed(acc)"
   ]
  },
  {
   "cell_type": "code",
   "execution_count": 15,
   "id": "chronic-cricket",
   "metadata": {},
   "outputs": [
    {
     "data": {
      "text/plain": [
       "['__class__',\n",
       " '__delattr__',\n",
       " '__dict__',\n",
       " '__dir__',\n",
       " '__doc__',\n",
       " '__eq__',\n",
       " '__format__',\n",
       " '__ge__',\n",
       " '__getattribute__',\n",
       " '__getitem__',\n",
       " '__gt__',\n",
       " '__hash__',\n",
       " '__init__',\n",
       " '__init_subclass__',\n",
       " '__le__',\n",
       " '__len__',\n",
       " '__lt__',\n",
       " '__module__',\n",
       " '__ne__',\n",
       " '__new__',\n",
       " '__reduce__',\n",
       " '__reduce_ex__',\n",
       " '__repr__',\n",
       " '__reversed__',\n",
       " '__setattr__',\n",
       " '__sizeof__',\n",
       " '__str__',\n",
       " '__subclasshook__',\n",
       " '__weakref__',\n",
       " '_transactions',\n",
       " 'add_transaction',\n",
       " 'amount',\n",
       " 'balance',\n",
       " 'owner']"
      ]
     },
     "execution_count": 15,
     "metadata": {},
     "output_type": "execute_result"
    }
   ],
   "source": [
    "# The dir() function returns all properties and methods of the specified object, without the values\n",
    "dir(acc)"
   ]
  },
  {
   "cell_type": "markdown",
   "id": "collect-trailer",
   "metadata": {},
   "source": [
    "**Object Comparison:**\n",
    "* Why does > work equally well on integers, strings and other objects (as long as they are the same type)? This polymorphic behavior is possible because these objects implement one or more comparison dunder methods.\n",
    "* To not have to implement all of the comparison dunder methods, we use the `functools.total_ordering` decorator which allows me to take a shortcut, only implementing `__eq__`, `__lt__` and `__gt__`:"
   ]
  },
  {
   "cell_type": "code",
   "execution_count": 16,
   "id": "centered-omega",
   "metadata": {},
   "outputs": [],
   "source": [
    "from functools import total_ordering"
   ]
  },
  {
   "cell_type": "code",
   "execution_count": 18,
   "id": "needed-black",
   "metadata": {},
   "outputs": [],
   "source": [
    "@total_ordering\n",
    "class Account:\n",
    "    \"\"\"A simple account class\"\"\"\n",
    "\n",
    "    def __init__(self, owner, amount=0):\n",
    "        \"\"\"\n",
    "        This is the constructor that lets us create\n",
    "        objects from this class\n",
    "        \"\"\"\n",
    "        self.owner = owner\n",
    "        self.amount = amount\n",
    "        self._transactions = []\n",
    "    \n",
    "    def __repr__(self):\n",
    "        return '{!r}({!r}, {!r})'.format(self.__class__.__name__,\n",
    "                                         self.owner, self.amount)\n",
    "    \n",
    "    def __str__(self):\n",
    "        return '{} of {} with starting amount: {}'.format(self.__class__.__name__,\n",
    "                                         self.owner, self.amount)\n",
    "    \n",
    "    # ITERATION Dunder methods\n",
    "    def __len__(self):\n",
    "        return len(self._transactions)\n",
    "    \n",
    "    def __getitem__(self, position):\n",
    "        return self._transactions[position]\n",
    "    \n",
    "    def __reversed__(self):\n",
    "        return self._transactions[::-1]\n",
    "    \n",
    "    # ORDERING dunder methods\n",
    "    def __eq__(self, other):\n",
    "        return self.balance == other.balance\n",
    "    \n",
    "    def __lt__(self, other):\n",
    "        return self.balance < other.balance\n",
    "    \n",
    "    def __gt__(self, other):\n",
    "        return self.balance > other.balance\n",
    "    \n",
    "    def add_transaction(self, amount):\n",
    "        \"\"\"each transaction has to go into __transactions attribute\"\"\"\n",
    "        if not isinstance(amount, int):\n",
    "            raise ValueError('Please use int for amount')\n",
    "        self._transactions.append(amount)\n",
    "    \n",
    "    @property\n",
    "    def balance(self):\n",
    "        return self.amount + sum(self._transactions)"
   ]
  },
  {
   "cell_type": "code",
   "execution_count": 21,
   "id": "mounted-brooklyn",
   "metadata": {},
   "outputs": [],
   "source": [
    "# create another account to compare to previous acc\n",
    "acc_2 = Account(\"bob\", 100)"
   ]
  },
  {
   "cell_type": "code",
   "execution_count": 24,
   "id": "opened-chassis",
   "metadata": {},
   "outputs": [
    {
     "name": "stdout",
     "output_type": "stream",
     "text": [
      "True\n",
      "False\n",
      "False\n"
     ]
    }
   ],
   "source": [
    "print(acc < acc_2)\n",
    "print(acc > acc_2)\n",
    "print(acc == acc_2)"
   ]
  }
 ],
 "metadata": {
  "kernelspec": {
   "display_name": "Python 3",
   "language": "python",
   "name": "python3"
  },
  "language_info": {
   "codemirror_mode": {
    "name": "ipython",
    "version": 3
   },
   "file_extension": ".py",
   "mimetype": "text/x-python",
   "name": "python",
   "nbconvert_exporter": "python",
   "pygments_lexer": "ipython3",
   "version": "3.7.5"
  }
 },
 "nbformat": 4,
 "nbformat_minor": 5
}
