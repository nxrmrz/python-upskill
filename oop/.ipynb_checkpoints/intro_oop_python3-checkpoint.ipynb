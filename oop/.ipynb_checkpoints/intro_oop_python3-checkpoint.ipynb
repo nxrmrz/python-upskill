{
 "cells": [
  {
   "cell_type": "markdown",
   "id": "compatible-tomato",
   "metadata": {},
   "source": [
    "**Class**\n",
    "* represents a real world object\n",
    "* has _attributes_, characteristics/features of that object\n",
    "* has _methods_, behaviours and actions of that object\n",
    "* blueprint for how an object is defined. Doesn't contain data yet\n",
    "* class attributes: attributes common to various instances of a class\n",
    "* dunder methods: those that begin and end in __. Lets you emulate built in types. Whole other [notebook](.dunder_methods) on this topic\n",
    "\n",
    "**Instance**\n",
    "* object built from the class, has data\n",
    "* instance attributes: attributes unique to an instance of a class\n",
    "* instance methods: functions defined inside a class, and can only be called on an instance of that class. First parameter is always `self`\n",
    "\n",
    "**Inheritance**\n",
    "* Other classes inheriting class and instance attributes, as well as methods from the superclass"
   ]
  },
  {
   "cell_type": "code",
   "execution_count": 2,
   "id": "revolutionary-lounge",
   "metadata": {},
   "outputs": [],
   "source": [
    "# define a class\n",
    "class Dog:\n",
    "    # class attributes\n",
    "    species = \"Canis Familiaris\"\n",
    "    \n",
    "    # constructor\n",
    "    def __init__(self, name, age):        \n",
    "        # below are instance attributes \n",
    "        self.name = name\n",
    "        self.age = age"
   ]
  },
  {
   "cell_type": "code",
   "execution_count": 3,
   "id": "motivated-effort",
   "metadata": {},
   "outputs": [
    {
     "data": {
      "text/plain": [
       "False"
      ]
     },
     "execution_count": 3,
     "metadata": {},
     "output_type": "execute_result"
    }
   ],
   "source": [
    "# instantiate a class\n",
    "buddy = Dog(\"buddy\", 20)\n",
    "buddy_copy = Dog(\"buddy\", 20)\n",
    "buddy == buddy_copy"
   ]
  },
  {
   "cell_type": "markdown",
   "id": "bottom-grenada",
   "metadata": {},
   "source": [
    "As we see above, each instance is located on a separate memory address"
   ]
  },
  {
   "cell_type": "code",
   "execution_count": 4,
   "id": "tired-shelf",
   "metadata": {},
   "outputs": [
    {
     "name": "stdout",
     "output_type": "stream",
     "text": [
      "buddy 20 Canis Familiaris\n"
     ]
    }
   ],
   "source": [
    "# access attributes with dot notation\n",
    "print(buddy.name, buddy.age, buddy.species)"
   ]
  },
  {
   "cell_type": "code",
   "execution_count": 5,
   "id": "flexible-doctor",
   "metadata": {},
   "outputs": [
    {
     "name": "stdout",
     "output_type": "stream",
     "text": [
      "goodboi\n"
     ]
    }
   ],
   "source": [
    "# change attributes dynamically - they're mutable\n",
    "buddy.name = \"goodboi\"\n",
    "print(buddy.name)"
   ]
  },
  {
   "cell_type": "code",
   "execution_count": 6,
   "id": "faced-update",
   "metadata": {},
   "outputs": [],
   "source": [
    "# instance methods...\n",
    "class Dog:\n",
    "    # class attributes\n",
    "    species = \"Canis Familiaris\"\n",
    "    \n",
    "    # constructor\n",
    "    def __init__(self, name, age):        \n",
    "        # below are instance attributes \n",
    "        self.name = name\n",
    "        self.age = age\n",
    "        \n",
    "    # instance method\n",
    "    def description(self):\n",
    "        return f\"{self.name} is {self.age} years old\"\n",
    "    \n",
    "    # instance method\n",
    "    def speak(self, sound):\n",
    "        return f\"{self.name} says {sound}\""
   ]
  },
  {
   "cell_type": "code",
   "execution_count": 7,
   "id": "ideal-cholesterol",
   "metadata": {},
   "outputs": [
    {
     "data": {
      "text/plain": [
       "'miles is 5 years old'"
      ]
     },
     "execution_count": 7,
     "metadata": {},
     "output_type": "execute_result"
    }
   ],
   "source": [
    "miles = Dog(\"miles\", 5)\n",
    "miles.description()"
   ]
  },
  {
   "cell_type": "code",
   "execution_count": 8,
   "id": "deadly-pastor",
   "metadata": {},
   "outputs": [
    {
     "data": {
      "text/plain": [
       "'miles says woof woof'"
      ]
     },
     "execution_count": 8,
     "metadata": {},
     "output_type": "execute_result"
    }
   ],
   "source": [
    "miles.speak(\"woof woof\")"
   ]
  },
  {
   "cell_type": "markdown",
   "id": "southeast-rocket",
   "metadata": {},
   "source": [
    "It's good to have a method that returns a string containing useful information about an instance of the class. `.description()` isn’t the most Pythonic way of doing this."
   ]
  },
  {
   "cell_type": "code",
   "execution_count": 9,
   "id": "animated-three",
   "metadata": {},
   "outputs": [],
   "source": [
    "# instead, __str__ method, a dunder method!\n",
    "# instance methods...\n",
    "class Dog:\n",
    "    # class attributes\n",
    "    species = \"Canis Familiaris\"\n",
    "    \n",
    "    # constructor\n",
    "    def __init__(self, name, age):        \n",
    "        # below are instance attributes \n",
    "        self.name = name\n",
    "        self.age = age\n",
    "    \n",
    "    # to string method!\n",
    "    def __str__(self):\n",
    "        return f\"{self.name} is {self.age} years old\"\n",
    "\n",
    "    # instance method\n",
    "    def speak(self, sound):\n",
    "        return f\"{self.name} says {sound}\""
   ]
  },
  {
   "cell_type": "code",
   "execution_count": 10,
   "id": "polar-compromise",
   "metadata": {},
   "outputs": [
    {
     "name": "stdout",
     "output_type": "stream",
     "text": [
      "nino is 2 years old\n"
     ]
    }
   ],
   "source": [
    "nino = Dog(\"nino\", 2)\n",
    "print(nino) #this invokes the string description!"
   ]
  },
  {
   "cell_type": "markdown",
   "id": "sapphire-brush",
   "metadata": {},
   "source": [
    "Now say we want to model a dog park, where we have different types of dogs with different breeds. We add an instance attribute, `breed`, to the constructor"
   ]
  },
  {
   "cell_type": "code",
   "execution_count": 11,
   "id": "crucial-certification",
   "metadata": {},
   "outputs": [],
   "source": [
    "class Dog:\n",
    "    # class attributes\n",
    "    species = \"Canis Familiaris\"\n",
    "    \n",
    "    # constructor\n",
    "    def __init__(self, name, age, breed):        \n",
    "        # below are instance attributes \n",
    "        self.name = name\n",
    "        self.age = age\n",
    "        self.breed = breed\n",
    "    \n",
    "    # to string method!\n",
    "    def __str__(self):\n",
    "        return f\"{self.name} is {self.age} years old\"\n",
    "\n",
    "    # instance method\n",
    "    def speak(self, sound):\n",
    "        return f\"{self.name} says {sound}\""
   ]
  },
  {
   "cell_type": "code",
   "execution_count": 12,
   "id": "statewide-thirty",
   "metadata": {},
   "outputs": [],
   "source": [
    "# instantiate the dogs\n",
    "buddy = Dog(\"Buddy\", 9, \"Dachshund\")\n",
    "jack = Dog(\"Jack\", 3, \"Bulldog\")\n",
    "jim = Dog(\"Jim\", 5, \"Bulldog\")"
   ]
  },
  {
   "cell_type": "code",
   "execution_count": 13,
   "id": "fatty-greek",
   "metadata": {},
   "outputs": [
    {
     "name": "stdout",
     "output_type": "stream",
     "text": [
      "Buddy says yap\n",
      "Jim says woof\n",
      "Jack says arf\n"
     ]
    }
   ],
   "source": [
    "# specify their different sounds\n",
    "print(buddy.speak(\"yap\"))\n",
    "print(jim.speak(\"woof\"))\n",
    "print(jack.speak(\"arf\"))"
   ]
  },
  {
   "cell_type": "markdown",
   "id": "advanced-gibraltar",
   "metadata": {},
   "source": [
    "The above could get quite repetitive. Plus we rely on giving the correct sound of each species by passing on a parameter to `speak`. Better way to do this? Yep! **Inheritance!**\n",
    "\n",
    "We can make different breeds inherit from class Dog, then have a default sound for each breed that could be overriden with new sounds.\n",
    "\n",
    "First, let's remove the `breed` attribute from the `Dog` constructor"
   ]
  },
  {
   "cell_type": "code",
   "execution_count": 16,
   "id": "smaller-elder",
   "metadata": {},
   "outputs": [],
   "source": [
    "# removing the breed attribute\n",
    "class Dog:\n",
    "    # class attributes\n",
    "    species = \"Canis Familiaris\"\n",
    "    \n",
    "    # constructor\n",
    "    def __init__(self, name, age):        \n",
    "        # below are instance attributes \n",
    "        self.name = name\n",
    "        self.age = age\n",
    "    \n",
    "    # to string method!\n",
    "    def __str__(self):\n",
    "        return f\"{self.name} is {self.age} years old\"\n",
    "\n",
    "    # instance method\n",
    "    def speak(self, sound):\n",
    "        return f\"{self.name} says {sound}\""
   ]
  },
  {
   "cell_type": "code",
   "execution_count": 27,
   "id": "listed-actress",
   "metadata": {},
   "outputs": [],
   "source": [
    "# breed classes inherit from Dog class\n",
    "class Labrador(Dog):\n",
    "    # override the method, but specify default sound to override with\n",
    "    def speak(self, sound='arf'):\n",
    "        return super().speak(sound)\n",
    "\n",
    "class Rottweiler(Dog):\n",
    "    # override the method, but specify default sound to override with\n",
    "    def speak(self, sound='bowwow'):\n",
    "        return super().speak(sound)\n",
    "\n",
    "class Poodle(Dog):\n",
    "    # override the method, but specify default sound to override with\n",
    "    def speak(self, sound='yap'):\n",
    "        return super().speak(sound)"
   ]
  },
  {
   "cell_type": "code",
   "execution_count": 28,
   "id": "environmental-notification",
   "metadata": {},
   "outputs": [],
   "source": [
    "# initialise our old animals\n",
    "buddy = Labrador(\"Buddy\", 2)\n",
    "jack = Rottweiler(\"Jack\", 5)\n",
    "jim = Poodle(\"Jim\", 3)"
   ]
  },
  {
   "cell_type": "code",
   "execution_count": 29,
   "id": "round-prototype",
   "metadata": {},
   "outputs": [
    {
     "data": {
      "text/plain": [
       "<__main__.Labrador at 0x10d810e90>"
      ]
     },
     "execution_count": 29,
     "metadata": {},
     "output_type": "execute_result"
    }
   ],
   "source": [
    "# we see buddy is of type Labrador\n",
    "buddy"
   ]
  },
  {
   "cell_type": "code",
   "execution_count": 32,
   "id": "northern-utilization",
   "metadata": {},
   "outputs": [
    {
     "name": "stdout",
     "output_type": "stream",
     "text": [
      "Buddy says arf\n",
      "Buddy says rafrafraf\n"
     ]
    }
   ],
   "source": [
    "print(buddy.speak()) # super().speak() working as intended\n",
    "print(buddy.speak(\"rafrafraf\")) # overriding the default sound works!"
   ]
  }
 ],
 "metadata": {
  "kernelspec": {
   "display_name": "Python 3",
   "language": "python",
   "name": "python3"
  },
  "language_info": {
   "codemirror_mode": {
    "name": "ipython",
    "version": 3
   },
   "file_extension": ".py",
   "mimetype": "text/x-python",
   "name": "python",
   "nbconvert_exporter": "python",
   "pygments_lexer": "ipython3",
   "version": "3.7.5"
  }
 },
 "nbformat": 4,
 "nbformat_minor": 5
}
